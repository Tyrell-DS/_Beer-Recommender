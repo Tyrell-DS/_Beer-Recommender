{
 "cells": [
  {
   "cell_type": "code",
   "execution_count": 19,
   "id": "83563522",
   "metadata": {},
   "outputs": [],
   "source": [
    "import pandas as pd\n",
    "import numpy as np\n",
    "import surprise\n",
    "from surprise import Reader\n",
    "from surprise import Dataset\n",
    "from surprise import SVD\n",
    "from surprise import accuracy\n",
    "from surprise.prediction_algorithms import *\n",
    "from surprise.model_selection import GridSearchCV\n",
    "import pickle\n",
    "pd.set_option('display.max_rows', None)\n",
    "import streamlit"
   ]
  },
  {
   "cell_type": "code",
   "execution_count": 8,
   "id": "5d208bd5",
   "metadata": {},
   "outputs": [],
   "source": [
    "\n",
    "df =  pd.read_csv('./Data/clean_data2.csv')"
   ]
  },
  {
   "cell_type": "code",
   "execution_count": 10,
   "id": "a2c3182c",
   "metadata": {},
   "outputs": [
    {
     "name": "stdout",
     "output_type": "stream",
     "text": [
      "<class 'pandas.core.frame.DataFrame'>\n",
      "RangeIndex: 634964 entries, 0 to 634963\n",
      "Data columns (total 4 columns):\n",
      " #   Column      Non-Null Count   Dtype  \n",
      "---  ------      --------------   -----  \n",
      " 0   Unnamed: 0  634964 non-null  int64  \n",
      " 1   user        634964 non-null  object \n",
      " 2   item        634964 non-null  object \n",
      " 3   rating      634964 non-null  float64\n",
      "dtypes: float64(1), int64(1), object(2)\n",
      "memory usage: 19.4+ MB\n"
     ]
    }
   ],
   "source": [
    "\n",
    "df.info()"
   ]
  },
  {
   "cell_type": "code",
   "execution_count": 11,
   "id": "e2d905e3",
   "metadata": {},
   "outputs": [],
   "source": [
    "\n",
    "reader = Reader(line_format=u'rating user item', sep=',', rating_scale=(1, 5), skip_lines=1)"
   ]
  },
  {
   "cell_type": "code",
   "execution_count": 12,
   "id": "3da5238a",
   "metadata": {},
   "outputs": [],
   "source": [
    "\n",
    "data = Dataset.load_from_df(df[[\"user\", \"item\", \"rating\"]], reader)"
   ]
  },
  {
   "cell_type": "code",
   "execution_count": 13,
   "id": "ddc7f2d1",
   "metadata": {},
   "outputs": [],
   "source": [
    "train, test = surprise.model_selection.train_test_split(data, random_state=42)"
   ]
  },
  {
   "cell_type": "code",
   "execution_count": 9,
   "id": "1480a30a",
   "metadata": {},
   "outputs": [],
   "source": [
    "model = SVD().fit(train)"
   ]
  },
  {
   "cell_type": "code",
   "execution_count": 10,
   "id": "8f62d7ae",
   "metadata": {},
   "outputs": [
    {
     "name": "stdout",
     "output_type": "stream",
     "text": [
      "MAE:  0.4371\n"
     ]
    },
    {
     "data": {
      "text/plain": [
       "0.4370625514751679"
      ]
     },
     "execution_count": 10,
     "metadata": {},
     "output_type": "execute_result"
    }
   ],
   "source": [
    "surprise.accuracy.mae(model.test(test))"
   ]
  },
  {
   "cell_type": "code",
   "execution_count": 13,
   "id": "c985615b",
   "metadata": {},
   "outputs": [
    {
     "name": "stdout",
     "output_type": "stream",
     "text": [
      "RMSE: 0.5860\n"
     ]
    },
    {
     "data": {
      "text/plain": [
       "0.5859841295143399"
      ]
     },
     "execution_count": 13,
     "metadata": {},
     "output_type": "execute_result"
    }
   ],
   "source": [
    "surprise.accuracy.rmse(model.test(test))"
   ]
  },
  {
   "cell_type": "code",
   "execution_count": 15,
   "id": "610cf50f",
   "metadata": {},
   "outputs": [],
   "source": [
    "param_grid = {'n_factors':[50,100,150],'n_epochs':[20,30],  'lr_all':[0.005,0.01],'reg_all':[0.02,0.1]}"
   ]
  },
  {
   "cell_type": "code",
   "execution_count": 16,
   "id": "2f103fab",
   "metadata": {},
   "outputs": [],
   "source": [
    "gs = GridSearchCV(SVD, param_grid, measures=['rmse'], cv=3)\n",
    "gs.fit(data)"
   ]
  },
  {
   "cell_type": "code",
   "execution_count": 18,
   "id": "609c5e6b",
   "metadata": {},
   "outputs": [],
   "source": [
    "params = gs.best_params['rmse']"
   ]
  },
  {
   "cell_type": "code",
   "execution_count": 19,
   "id": "35c64ead",
   "metadata": {},
   "outputs": [],
   "source": [
    "pickle.dump( params, open( \"./Data/save.p\", \"wb\" ) )"
   ]
  },
  {
   "cell_type": "code",
   "execution_count": 14,
   "id": "c5d0e89a",
   "metadata": {},
   "outputs": [],
   "source": [
    "svd_params = pd.read_pickle('./Data/save.p')"
   ]
  },
  {
   "cell_type": "code",
   "execution_count": 15,
   "id": "bfa9410a",
   "metadata": {},
   "outputs": [
    {
     "data": {
      "text/plain": [
       "{'n_factors': 50, 'n_epochs': 20, 'lr_all': 0.005, 'reg_all': 0.1}"
      ]
     },
     "execution_count": 15,
     "metadata": {},
     "output_type": "execute_result"
    }
   ],
   "source": [
    "svd_params"
   ]
  },
  {
   "cell_type": "code",
   "execution_count": 27,
   "id": "fb16969e",
   "metadata": {},
   "outputs": [],
   "source": [
    "svdtuned = SVD(n_factors=svd_params['n_factors'], n_epochs=svd_params['n_epochs'],lr_all=svd_params['lr_all'], reg_all=svd_params['reg_all'])"
   ]
  },
  {
   "cell_type": "code",
   "execution_count": 29,
   "id": "fe9eebcb",
   "metadata": {},
   "outputs": [],
   "source": [
    "svdtuned_model = svdtuned.fit(train)"
   ]
  },
  {
   "cell_type": "code",
   "execution_count": 30,
   "id": "04b71d01",
   "metadata": {},
   "outputs": [
    {
     "name": "stdout",
     "output_type": "stream",
     "text": [
      "MAE:  0.4350\n"
     ]
    },
    {
     "data": {
      "text/plain": [
       "0.4350160466082846"
      ]
     },
     "execution_count": 30,
     "metadata": {},
     "output_type": "execute_result"
    }
   ],
   "source": [
    "surprise.accuracy.mae(svdtuned_model.test(test))"
   ]
  },
  {
   "cell_type": "code",
   "execution_count": 31,
   "id": "1357eb7b",
   "metadata": {},
   "outputs": [
    {
     "name": "stdout",
     "output_type": "stream",
     "text": [
      "RMSE: 0.5844\n"
     ]
    },
    {
     "data": {
      "text/plain": [
       "0.5844036922658483"
      ]
     },
     "execution_count": 31,
     "metadata": {},
     "output_type": "execute_result"
    }
   ],
   "source": [
    "surprise.accuracy.rmse(svdtuned_model.test(test))"
   ]
  },
  {
   "cell_type": "code",
   "execution_count": 25,
   "id": "9490d6d1",
   "metadata": {},
   "outputs": [],
   "source": [
    "param_grid2 = {'n_factors':[60,120,180],'n_epochs':[20,30,40],  'lr_all':[0.005,0.01,.1],'reg_all':[0.02,0.1]}"
   ]
  },
  {
   "cell_type": "code",
   "execution_count": 26,
   "id": "a5d19988",
   "metadata": {},
   "outputs": [],
   "source": [
    "gs2 = GridSearchCV(SVD, param_grid2, measures=['rmse'], cv=5)\n",
    "gs2.fit(data)"
   ]
  },
  {
   "cell_type": "code",
   "execution_count": 27,
   "id": "911cbbf7",
   "metadata": {},
   "outputs": [],
   "source": [
    "params2 = gs2.best_params['rmse']"
   ]
  },
  {
   "cell_type": "code",
   "execution_count": 29,
   "id": "4057eef9",
   "metadata": {},
   "outputs": [],
   "source": [
    "#pickle.dump(params2, open ('./Data/save.p2', 'wb'))"
   ]
  },
  {
   "cell_type": "code",
   "execution_count": 16,
   "id": "05b69fc3",
   "metadata": {},
   "outputs": [],
   "source": [
    "svd_params2 = pd.read_pickle('./Data/save.p2')"
   ]
  },
  {
   "cell_type": "code",
   "execution_count": 17,
   "id": "f37a8522",
   "metadata": {},
   "outputs": [
    {
     "data": {
      "text/plain": [
       "{'n_factors': 180, 'n_epochs': 40, 'lr_all': 0.01, 'reg_all': 0.1}"
      ]
     },
     "execution_count": 17,
     "metadata": {},
     "output_type": "execute_result"
    }
   ],
   "source": [
    "svd_params2"
   ]
  },
  {
   "cell_type": "code",
   "execution_count": 22,
   "id": "ae74394a",
   "metadata": {},
   "outputs": [],
   "source": [
    "svdtuned2 =  SVD(n_factors=svd_params2['n_factors'], n_epochs=svd_params2['n_epochs'],lr_all=svd_params2['lr_all'], reg_all=svd_params2['reg_all'])"
   ]
  },
  {
   "cell_type": "code",
   "execution_count": 20,
   "id": "6cd6d9f9",
   "metadata": {},
   "outputs": [],
   "source": [
    "svdtuned_model2 = svdtuned2.fit(train)\n"
   ]
  },
  {
   "cell_type": "code",
   "execution_count": 20,
   "id": "4ab67325",
   "metadata": {},
   "outputs": [
    {
     "name": "stdout",
     "output_type": "stream",
     "text": [
      "MAE:  0.4348\n"
     ]
    },
    {
     "data": {
      "text/plain": [
       "0.4347507261461443"
      ]
     },
     "execution_count": 20,
     "metadata": {},
     "output_type": "execute_result"
    }
   ],
   "source": [
    "surprise.accuracy.mae(svdtuned_model2.test(test))"
   ]
  },
  {
   "cell_type": "code",
   "execution_count": 21,
   "id": "76b71666",
   "metadata": {},
   "outputs": [
    {
     "name": "stdout",
     "output_type": "stream",
     "text": [
      "RMSE: 0.5838\n"
     ]
    },
    {
     "data": {
      "text/plain": [
       "0.5837716912798773"
      ]
     },
     "execution_count": 21,
     "metadata": {},
     "output_type": "execute_result"
    }
   ],
   "source": [
    "surprise.accuracy.rmse(svdtuned_model2.test(test))"
   ]
  },
  {
   "cell_type": "code",
   "execution_count": 21,
   "id": "38b761ac",
   "metadata": {},
   "outputs": [
    {
     "name": "stdout",
     "output_type": "stream",
     "text": [
      "FCP:  0.6747\n"
     ]
    },
    {
     "data": {
      "text/plain": [
       "0.6746622080077213"
      ]
     },
     "execution_count": 21,
     "metadata": {},
     "output_type": "execute_result"
    }
   ],
   "source": [
    "surprise.accuracy.fcp(svdtuned_model2.test(test))"
   ]
  },
  {
   "cell_type": "code",
   "execution_count": 24,
   "id": "6dd84cd5",
   "metadata": {},
   "outputs": [],
   "source": [
    "trainsetfull = data.build_full_trainset()"
   ]
  },
  {
   "cell_type": "code",
   "execution_count": 47,
   "id": "8b7fff7b",
   "metadata": {},
   "outputs": [],
   "source": [
    "pickle.dump(final_model, open ('./Data/FM.sav', 'wb'))"
   ]
  },
  {
   "cell_type": "code",
   "execution_count": 48,
   "id": "b1f5925b",
   "metadata": {},
   "outputs": [],
   "source": [
    "lm = pickle.load(open('./Data/FM.sav', 'rb'))"
   ]
  },
  {
   "cell_type": "code",
   "execution_count": 25,
   "id": "64f31e6f",
   "metadata": {},
   "outputs": [],
   "source": [
    "final_model = svdtuned2.fit(trainsetfull)"
   ]
  },
  {
   "cell_type": "code",
   "execution_count": null,
   "id": "362b5038",
   "metadata": {},
   "outputs": [],
   "source": []
  }
 ],
 "metadata": {
  "kernelspec": {
   "display_name": "Python 3",
   "language": "python",
   "name": "python3"
  },
  "language_info": {
   "codemirror_mode": {
    "name": "ipython",
    "version": 3
   },
   "file_extension": ".py",
   "mimetype": "text/x-python",
   "name": "python",
   "nbconvert_exporter": "python",
   "pygments_lexer": "ipython3",
   "version": "3.8.10"
  }
 },
 "nbformat": 4,
 "nbformat_minor": 5
}
