{
 "cells": [
  {
   "cell_type": "code",
   "execution_count": 162,
   "id": "0f7ae023",
   "metadata": {},
   "outputs": [],
   "source": [
    "import pandas as pd\n",
    "import numpy as np\n",
    "import surprise\n",
    "from surprise import Reader\n",
    "from surprise import Dataset\n",
    "from surprise import KNNBasic, KNNWithMeans, KNNWithZScore, KNNBaseline\n",
    "from surprise import accuracy\n",
    "from surprise.prediction_algorithms import *\n",
    "from surprise.model_selection import GridSearchCV\n",
    "import pickle\n",
    "pd.set_option('display.max_rows', None)\n",
    "import heapq\n",
    "from collections import defaultdict\n",
    "from operator import itemgetter\n",
    "import random "
   ]
  },
  {
   "cell_type": "code",
   "execution_count": 163,
   "id": "7fe35fe9",
   "metadata": {},
   "outputs": [],
   "source": [
    "df =  pd.read_csv('./Data/clean_data2.csv')"
   ]
  },
  {
   "cell_type": "code",
   "execution_count": 164,
   "id": "3a69d234",
   "metadata": {},
   "outputs": [
    {
     "data": {
      "text/html": [
       "<div>\n",
       "<style scoped>\n",
       "    .dataframe tbody tr th:only-of-type {\n",
       "        vertical-align: middle;\n",
       "    }\n",
       "\n",
       "    .dataframe tbody tr th {\n",
       "        vertical-align: top;\n",
       "    }\n",
       "\n",
       "    .dataframe thead th {\n",
       "        text-align: right;\n",
       "    }\n",
       "</style>\n",
       "<table border=\"1\" class=\"dataframe\">\n",
       "  <thead>\n",
       "    <tr style=\"text-align: right;\">\n",
       "      <th></th>\n",
       "      <th>Unnamed: 0</th>\n",
       "      <th>user</th>\n",
       "      <th>item</th>\n",
       "      <th>rating</th>\n",
       "    </tr>\n",
       "  </thead>\n",
       "  <tbody>\n",
       "    <tr>\n",
       "      <th>0</th>\n",
       "      <td>10</td>\n",
       "      <td>fodeeoz</td>\n",
       "      <td>Amstel Light</td>\n",
       "      <td>3.0</td>\n",
       "    </tr>\n",
       "    <tr>\n",
       "      <th>1</th>\n",
       "      <td>30</td>\n",
       "      <td>xXTequila</td>\n",
       "      <td>Amstel Light</td>\n",
       "      <td>3.0</td>\n",
       "    </tr>\n",
       "    <tr>\n",
       "      <th>2</th>\n",
       "      <td>265</td>\n",
       "      <td>coldriver</td>\n",
       "      <td>Caldera IPA</td>\n",
       "      <td>4.0</td>\n",
       "    </tr>\n",
       "    <tr>\n",
       "      <th>3</th>\n",
       "      <td>337</td>\n",
       "      <td>Rutager</td>\n",
       "      <td>Caldera IPA</td>\n",
       "      <td>4.0</td>\n",
       "    </tr>\n",
       "    <tr>\n",
       "      <th>4</th>\n",
       "      <td>338</td>\n",
       "      <td>CHILLINDYLAN</td>\n",
       "      <td>Caldera IPA</td>\n",
       "      <td>4.5</td>\n",
       "    </tr>\n",
       "  </tbody>\n",
       "</table>\n",
       "</div>"
      ],
      "text/plain": [
       "   Unnamed: 0          user          item  rating\n",
       "0          10       fodeeoz  Amstel Light     3.0\n",
       "1          30     xXTequila  Amstel Light     3.0\n",
       "2         265     coldriver   Caldera IPA     4.0\n",
       "3         337       Rutager   Caldera IPA     4.0\n",
       "4         338  CHILLINDYLAN   Caldera IPA     4.5"
      ]
     },
     "execution_count": 164,
     "metadata": {},
     "output_type": "execute_result"
    }
   ],
   "source": [
    "df.head()"
   ]
  },
  {
   "cell_type": "code",
   "execution_count": 165,
   "id": "1c35167c",
   "metadata": {},
   "outputs": [],
   "source": [
    "reader = Reader(line_format=u'rating user item', sep=',', rating_scale=(1, 5), skip_lines=1)"
   ]
  },
  {
   "cell_type": "code",
   "execution_count": 166,
   "id": "3f6e734e",
   "metadata": {},
   "outputs": [],
   "source": [
    "data = Dataset.load_from_df(df[[\"user\", \"item\", \"rating\"]], reader)"
   ]
  },
  {
   "cell_type": "code",
   "execution_count": 167,
   "id": "1afca48d",
   "metadata": {},
   "outputs": [],
   "source": [
    "train, test = surprise.model_selection.train_test_split(data, random_state=42)"
   ]
  },
  {
   "cell_type": "code",
   "execution_count": 215,
   "id": "7554355a",
   "metadata": {},
   "outputs": [],
   "source": [
    "bsl_options = {'method': 'als',\n",
    "               'n_epochs': 20,\n",
    "               }\n",
    "sim_options = {'name': 'cosine'}\n"
   ]
  },
  {
   "cell_type": "code",
   "execution_count": 216,
   "id": "ecce5d19",
   "metadata": {},
   "outputs": [
    {
     "name": "stdout",
     "output_type": "stream",
     "text": [
      "Computing the cosine similarity matrix...\n",
      "Done computing similarity matrix.\n"
     ]
    }
   ],
   "source": [
    "model = KNNBasic(bsl_options=bsl_options, sim_options=sim_options).fit(train)"
   ]
  },
  {
   "cell_type": "code",
   "execution_count": 217,
   "id": "38281ada",
   "metadata": {},
   "outputs": [
    {
     "name": "stdout",
     "output_type": "stream",
     "text": [
      "Estimating biases using als...\n",
      "Computing the cosine similarity matrix...\n",
      "Done computing similarity matrix.\n"
     ]
    }
   ],
   "source": [
    "model2 = KNNBaseline(bsl_options=bsl_options, sim_options=sim_options).fit(train)\n"
   ]
  },
  {
   "cell_type": "code",
   "execution_count": 218,
   "id": "bbdd54bc",
   "metadata": {},
   "outputs": [
    {
     "name": "stdout",
     "output_type": "stream",
     "text": [
      "Computing the cosine similarity matrix...\n",
      "Done computing similarity matrix.\n"
     ]
    }
   ],
   "source": [
    "model3 = KNNWithMeans(bsl_options=bsl_options, sim_options=sim_options).fit(train)"
   ]
  },
  {
   "cell_type": "code",
   "execution_count": 219,
   "id": "40ada7ee",
   "metadata": {},
   "outputs": [
    {
     "name": "stdout",
     "output_type": "stream",
     "text": [
      "Computing the cosine similarity matrix...\n",
      "Done computing similarity matrix.\n"
     ]
    }
   ],
   "source": [
    "model4 = KNNWithZScore(bsl_options=bsl_options, sim_options=sim_options).fit(train)"
   ]
  },
  {
   "cell_type": "code",
   "execution_count": 220,
   "id": "3dc37641",
   "metadata": {},
   "outputs": [
    {
     "name": "stdout",
     "output_type": "stream",
     "text": [
      "RMSE: 0.6076\n"
     ]
    },
    {
     "data": {
      "text/plain": [
       "0.6075542742362325"
      ]
     },
     "execution_count": 220,
     "metadata": {},
     "output_type": "execute_result"
    }
   ],
   "source": [
    "surprise.accuracy.rmse(model.test(test))"
   ]
  },
  {
   "cell_type": "code",
   "execution_count": 221,
   "id": "7e565d4a",
   "metadata": {},
   "outputs": [
    {
     "name": "stdout",
     "output_type": "stream",
     "text": [
      "RMSE: 0.5887\n"
     ]
    },
    {
     "data": {
      "text/plain": [
       "0.5886671437621698"
      ]
     },
     "execution_count": 221,
     "metadata": {},
     "output_type": "execute_result"
    }
   ],
   "source": [
    "surprise.accuracy.rmse(model2.test(test))"
   ]
  },
  {
   "cell_type": "code",
   "execution_count": 222,
   "id": "96a1484b",
   "metadata": {},
   "outputs": [
    {
     "name": "stdout",
     "output_type": "stream",
     "text": [
      "RMSE: 0.6061\n"
     ]
    },
    {
     "data": {
      "text/plain": [
       "0.6060942291669638"
      ]
     },
     "execution_count": 222,
     "metadata": {},
     "output_type": "execute_result"
    }
   ],
   "source": [
    "surprise.accuracy.rmse(model3.test(test))"
   ]
  },
  {
   "cell_type": "code",
   "execution_count": 223,
   "id": "a683dcdc",
   "metadata": {
    "scrolled": true
   },
   "outputs": [
    {
     "name": "stdout",
     "output_type": "stream",
     "text": [
      "RMSE: 0.6113\n"
     ]
    },
    {
     "data": {
      "text/plain": [
       "0.6112921421867282"
      ]
     },
     "execution_count": 223,
     "metadata": {},
     "output_type": "execute_result"
    }
   ],
   "source": [
    "surprise.accuracy.rmse(model4.test(test))"
   ]
  },
  {
   "cell_type": "code",
   "execution_count": 177,
   "id": "c1e4c9fe",
   "metadata": {},
   "outputs": [],
   "source": [
    "#param_grid = {'k': [5,10, 15 ,20]}"
   ]
  },
  {
   "cell_type": "code",
   "execution_count": 178,
   "id": "f42948fa",
   "metadata": {},
   "outputs": [],
   "source": [
    "#knnBaseline_gs = GridSearchCV(KNNBaseline, param_grid, measures=['rmse'], cv=5, n_jobs= -1, joblib_verbose=5)"
   ]
  },
  {
   "cell_type": "code",
   "execution_count": 179,
   "id": "4fa37905",
   "metadata": {
    "scrolled": false
   },
   "outputs": [],
   "source": [
    "#knnBaseline_gs.fit(data)"
   ]
  },
  {
   "cell_type": "code",
   "execution_count": 180,
   "id": "ecd581ab",
   "metadata": {
    "scrolled": true
   },
   "outputs": [],
   "source": [
    "#params =knnBaseline_gs.best_params['rmse']\n",
    "#params"
   ]
  },
  {
   "cell_type": "code",
   "execution_count": 181,
   "id": "a2102656",
   "metadata": {},
   "outputs": [],
   "source": [
    "#param_grid2 = {'k': [20,30,40],\n",
    "#              'sim_options': {'min_support': [1, 5]}}"
   ]
  },
  {
   "cell_type": "code",
   "execution_count": 182,
   "id": "de14e867",
   "metadata": {},
   "outputs": [],
   "source": [
    "#knnBaseline_gs2 = GridSearchCV(KNNBaseline, param_grid2, measures=['rmse'], cv=5, n_jobs= -1, joblib_verbose=5)"
   ]
  },
  {
   "cell_type": "code",
   "execution_count": 183,
   "id": "d8e5cf52",
   "metadata": {
    "scrolled": false
   },
   "outputs": [],
   "source": [
    "#knnBaseline_gs2.fit(data)"
   ]
  },
  {
   "cell_type": "code",
   "execution_count": 184,
   "id": "03d6406f",
   "metadata": {
    "scrolled": false
   },
   "outputs": [],
   "source": [
    "#params2 =knnBaseline_gs2.best_params['rmse']\n",
    "#params2"
   ]
  },
  {
   "cell_type": "code",
   "execution_count": 185,
   "id": "9f7419b3",
   "metadata": {},
   "outputs": [],
   "source": [
    "#pickle.dump(params2 , open ('./Data/params2.sav', 'wb'))\n",
    "#params2 = pickle.load(open('./Data/params2.sav', 'rb'))\n"
   ]
  },
  {
   "cell_type": "code",
   "execution_count": 186,
   "id": "33525623",
   "metadata": {
    "scrolled": true
   },
   "outputs": [],
   "source": [
    "#model5 = KNNBaseline(k = params2['k'], bsl_options=bsl_options, sim_options=params2['sim_options']).fit(train)"
   ]
  },
  {
   "cell_type": "code",
   "execution_count": 187,
   "id": "b0e42b38",
   "metadata": {},
   "outputs": [],
   "source": [
    "#surprise.accuracy.rmse(model5.test(test))"
   ]
  },
  {
   "cell_type": "code",
   "execution_count": 188,
   "id": "9616e15b",
   "metadata": {},
   "outputs": [],
   "source": [
    "#bsl_options3 = {'method': 'als',\n",
    "#               'n_epochs': 20,\n",
    "#               }\n",
    "#sim_options3 ={'min_support': 5, 'user_based': True, 'name':'cosine'}\n"
   ]
  },
  {
   "cell_type": "code",
   "execution_count": 225,
   "id": "e6eb503d",
   "metadata": {},
   "outputs": [],
   "source": [
    "#pickle.dump(bsl_options3 , open ('./Data/bsl_options3.sav', 'wb'))\n",
    "bsl_options3= pickle.load(open('./Data/bsl_options3.sav', 'rb'))"
   ]
  },
  {
   "cell_type": "code",
   "execution_count": 226,
   "id": "e4614a93",
   "metadata": {},
   "outputs": [],
   "source": [
    "#pickle.dump(sim_options3 , open ('./Data/sim_options3.sav', 'wb'))\n",
    "sim_options3 = pickle.load(open('./Data/sim_options3.sav', 'rb'))"
   ]
  },
  {
   "cell_type": "code",
   "execution_count": 191,
   "id": "02c28aa9",
   "metadata": {},
   "outputs": [],
   "source": [
    "#model5 = KNNBaseline(k = 40, bsl_options=bsl_options3, sim_options=sim_options3).fit(train)"
   ]
  },
  {
   "cell_type": "code",
   "execution_count": 192,
   "id": "39e6fcf8",
   "metadata": {},
   "outputs": [],
   "source": [
    "#surprise.accuracy.rmse(model5.test(test))"
   ]
  },
  {
   "cell_type": "code",
   "execution_count": 193,
   "id": "c9d73092",
   "metadata": {},
   "outputs": [],
   "source": [
    "# trainsetfull = data.build_full_trainset()"
   ]
  },
  {
   "cell_type": "code",
   "execution_count": 194,
   "id": "7062663d",
   "metadata": {},
   "outputs": [],
   "source": [
    "#final_model =  KNNBaseline(k = 40, bsl_options=bsl_options3, sim_options=sim_options3).fit(trainsetfull)"
   ]
  },
  {
   "cell_type": "code",
   "execution_count": 195,
   "id": "bdf037e8",
   "metadata": {},
   "outputs": [],
   "source": [
    "#simsMatrix = final_model.compute_similarities()"
   ]
  },
  {
   "cell_type": "code",
   "execution_count": 196,
   "id": "e972ec7c",
   "metadata": {},
   "outputs": [],
   "source": [
    "beer_sample = ['Miller Genuine Draft', 'Purple Haze','Molson Canadian Lager' ,'Coors', 'Samuel Adams Octoberfest', 'Left Hand Milk Stout',\n",
    "               'Chocolate Stout', 'Sierra Nevada Celebration Ale', 'Founders Porter', 'Amstel Light', 'Daisy Cutter Pale Ale', 'Labatt Blue',\n",
    "               'Allagash White', '90 Minute IPA', '60 Minute IPA', 'Miller Lite', 'Miller High Life', 'Miller Genuine Draft', \"Leinenkugel's Summer Shandy\",\n",
    "               'Shiner Bock', 'Sapporo Premium Beer', \"Trader Joe's Stockyard Oatmeal Stout\", \"Bell's Pale Ale\", 'Two Hearted Ale', \"Bell's Hopslam Ale\",\n",
    "               'Pacífico', 'Negra Modelo', 'Modelo Especial', 'Stone Pale Ale', 'Stone IPA (India Pale Ale)', 'Stone Ruination IPA', 'Arrogant Bastard Ale',\n",
    "               'Hoegaarden Original White Ale', 'Ommegang Witte', 'Landshark Lager', 'UFO Hefeweizen', 'Bud Light', 'Bud Light Lime',\n",
    "               'Stella Artois', 'Lagunitas IPA', \"A Little Sumpin' Extra! Ale\", 'Guinness Draught', 'Guinness Extra Stout (Original)',\n",
    "               'Blue Moon Belgian White','Samuel Adams Boston Lager', 'Samuel Adams Cherry Wheat', 'Corona Extra', 'Dos Equis Amber Lager',\n",
    "               'Dos Equis Special Lager', 'Weihenstephaner Hefeweissbier', 'Rolling Rock Extra Pale', 'Keystone Light', 'Pabst Blue Ribbon (PBR)',\n",
    "               'Coors Light', 'Brooklyn Lager', 'Brooklyn Brown Ale', '21st Amendment IPA', 'Yuengling Black & Tan', 'Yuengling Traditional Lager',\n",
    "               \"Foster's Lager\", 'Busch Light', 'Busch Beer', 'Budweiser', 'Grolsch Premium Lager', 'Natural Ice', 'Natural Light'\n",
    "            \n",
    "\n",
    "              \n",
    "              \n",
    "              \n",
    "              \n",
    "              \n",
    "              \n",
    "              \n",
    "              ]"
   ]
  },
  {
   "cell_type": "code",
   "execution_count": 197,
   "id": "723fbf90",
   "metadata": {},
   "outputs": [],
   "source": [
    "#pickle.dump(beer_sample , open ('./Data/beer_sample.sav', 'wb'))"
   ]
  },
  {
   "cell_type": "code",
   "execution_count": 198,
   "id": "2e84cdae",
   "metadata": {},
   "outputs": [],
   "source": [
    "def rater(num):\n",
    "    userID = 'Tye'\n",
    "    rating_list = []\n",
    "    while num > 0:\n",
    "\n",
    "        beer = (random.choice(beer_sample))\n",
    "        print(beer)\n",
    "        rating = input(\"Let's rate some beers on a scale of 1-5, press n if you have not drank it :\\n\")\n",
    "        if rating == 'n':\n",
    "            continue\n",
    "        else:\n",
    "            rating_one_beer = {'user':userID,'item':beer,'rating':rating}\n",
    "            rating_list.append(rating_one_beer) \n",
    "            num -= 1\n",
    "    return rating_list        "
   ]
  },
  {
   "cell_type": "code",
   "execution_count": 199,
   "id": "9ad8c142",
   "metadata": {},
   "outputs": [],
   "source": [
    "def rec(testSubject, k):\n",
    "    \n",
    "    \n",
    "    \n",
    "\n",
    "    testUserInnerID =  trainsetfull2.to_inner_uid(testSubject)\n",
    "    similarityRow = simsMatrix[testUserInnerID]\n",
    "\n",
    "    similarUsers = []\n",
    "    for innerID, score in enumerate(similarityRow):\n",
    "        if (innerID != testUserInnerID):\n",
    "            similarUsers.append( (innerID, score) )\n",
    "        \n",
    "    kNeighbors = heapq.nlargest(k, similarUsers, key=lambda t: t[1])\n",
    "\n",
    "    candidates = defaultdict(float)\n",
    "    for similarUser in kNeighbors:\n",
    "        innerID = similarUser[0]\n",
    "        userSimilarityScore = similarUser[1]\n",
    "        theirRatings = trainsetfull2.ur[innerID]\n",
    "        for rating in theirRatings:\n",
    "            candidates[rating[0]] += (rating[1] / 5.0) * userSimilarityScore\n",
    "\n",
    "    watched = {}\n",
    "    for itemID, rating in trainsetfull2.ur[testUserInnerID]:\n",
    "        watched[itemID] = 1   \n",
    "    \n",
    "    pos = 0\n",
    "    for itemID, ratingSum in sorted(candidates.items(), key=itemgetter(1), reverse=True):\n",
    "        if not itemID in watched:\n",
    "            movieID = trainsetfull2.to_raw_iid(itemID)\n",
    "            print(movieID)\n",
    "            pos += 1\n",
    "            if (pos >= k):\n",
    "                break\n",
    "    return "
   ]
  },
  {
   "cell_type": "code",
   "execution_count": 200,
   "id": "d14c42bc",
   "metadata": {},
   "outputs": [
    {
     "name": "stdout",
     "output_type": "stream",
     "text": [
      "Busch Beer\n",
      "Let's rate some beers on a scale of 1-5, press n if you have not drank it :\n",
      "1\n",
      "Lagunitas IPA\n",
      "Let's rate some beers on a scale of 1-5, press n if you have not drank it :\n",
      "5\n",
      "Budweiser\n",
      "Let's rate some beers on a scale of 1-5, press n if you have not drank it :\n",
      "3\n",
      "Grolsch Premium Lager\n",
      "Let's rate some beers on a scale of 1-5, press n if you have not drank it :\n",
      "2\n",
      "Weihenstephaner Hefeweissbier\n",
      "Let's rate some beers on a scale of 1-5, press n if you have not drank it :\n",
      "5\n"
     ]
    }
   ],
   "source": [
    "user = rater(5)"
   ]
  },
  {
   "cell_type": "code",
   "execution_count": 201,
   "id": "f54968a6",
   "metadata": {},
   "outputs": [],
   "source": [
    "#user[0]"
   ]
  },
  {
   "cell_type": "code",
   "execution_count": 202,
   "id": "12e92cfb",
   "metadata": {},
   "outputs": [],
   "source": [
    "new_ratings_df = df.append(user,ignore_index=True)"
   ]
  },
  {
   "cell_type": "code",
   "execution_count": 203,
   "id": "93f28990",
   "metadata": {},
   "outputs": [],
   "source": [
    "#new_ratings_df.columns"
   ]
  },
  {
   "cell_type": "code",
   "execution_count": 204,
   "id": "9697398d",
   "metadata": {},
   "outputs": [],
   "source": [
    "new_ratings_df.drop(columns = 'Unnamed: 0', inplace =True)"
   ]
  },
  {
   "cell_type": "code",
   "execution_count": 205,
   "id": "4eb54914",
   "metadata": {},
   "outputs": [],
   "source": [
    "#new_ratings_df[new_ratings_df['user'] == 'Tye']"
   ]
  },
  {
   "cell_type": "code",
   "execution_count": 206,
   "id": "dbfd344c",
   "metadata": {},
   "outputs": [],
   "source": [
    "new_data = Dataset.load_from_df(new_ratings_df,reader)"
   ]
  },
  {
   "cell_type": "code",
   "execution_count": 207,
   "id": "4e33aa44",
   "metadata": {},
   "outputs": [],
   "source": [
    "trainsetfull2 = new_data.build_full_trainset()"
   ]
  },
  {
   "cell_type": "code",
   "execution_count": 208,
   "id": "8d95acfd",
   "metadata": {
    "scrolled": false
   },
   "outputs": [
    {
     "name": "stdout",
     "output_type": "stream",
     "text": [
      "Estimating biases using als...\n",
      "Computing the cosine similarity matrix...\n",
      "Done computing similarity matrix.\n"
     ]
    }
   ],
   "source": [
    "final_model =  KNNBaseline(k = 40, bsl_options=bsl_options3, sim_options=sim_options3).fit(trainsetfull2)"
   ]
  },
  {
   "cell_type": "code",
   "execution_count": 224,
   "id": "64571959",
   "metadata": {},
   "outputs": [],
   "source": [
    "#pickle.dump(final_model , open ('./Data/final_model.sav', 'wb'))\n",
    "final_model = pickle.load(open('./Data/final_model.sav', 'rb'))"
   ]
  },
  {
   "cell_type": "code",
   "execution_count": 210,
   "id": "362d6079",
   "metadata": {
    "scrolled": true
   },
   "outputs": [
    {
     "name": "stdout",
     "output_type": "stream",
     "text": [
      "Computing the cosine similarity matrix...\n",
      "Done computing similarity matrix.\n"
     ]
    }
   ],
   "source": [
    "simsMatrix = final_model.compute_similarities()"
   ]
  },
  {
   "cell_type": "code",
   "execution_count": 211,
   "id": "df53157c",
   "metadata": {},
   "outputs": [],
   "source": [
    "testSubject = 'Tye'"
   ]
  },
  {
   "cell_type": "code",
   "execution_count": 212,
   "id": "8549f172",
   "metadata": {
    "scrolled": false
   },
   "outputs": [
    {
     "name": "stdout",
     "output_type": "stream",
     "text": [
      "Samuel Adams Boston Lager\n",
      "Sierra Nevada Pale Ale\n",
      "Sierra Nevada Celebration Ale\n",
      "60 Minute IPA\n",
      "Samuel Adams Winter Lager\n"
     ]
    }
   ],
   "source": [
    "rec(testSubject, 5)"
   ]
  },
  {
   "cell_type": "code",
   "execution_count": 313,
   "id": "174e9275",
   "metadata": {},
   "outputs": [],
   "source": []
  },
  {
   "cell_type": "code",
   "execution_count": null,
   "id": "b298743e",
   "metadata": {},
   "outputs": [],
   "source": []
  }
 ],
 "metadata": {
  "kernelspec": {
   "display_name": "Python 3",
   "language": "python",
   "name": "python3"
  },
  "language_info": {
   "codemirror_mode": {
    "name": "ipython",
    "version": 3
   },
   "file_extension": ".py",
   "mimetype": "text/x-python",
   "name": "python",
   "nbconvert_exporter": "python",
   "pygments_lexer": "ipython3",
   "version": "3.8.10"
  }
 },
 "nbformat": 4,
 "nbformat_minor": 5
}
