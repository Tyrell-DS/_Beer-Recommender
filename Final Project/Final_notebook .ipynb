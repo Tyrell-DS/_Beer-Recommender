{
 "cells": [
  {
   "cell_type": "code",
   "execution_count": 1,
   "id": "e21bc593",
   "metadata": {},
   "outputs": [],
   "source": [
    "import pandas as pd\n",
    "import numpy as np\n",
    "import surprise\n",
    "from surprise import Reader\n",
    "from surprise import Dataset\n",
    "from surprise import KNNBasic, KNNWithMeans, KNNWithZScore, KNNBaseline\n",
    "from surprise import accuracy\n",
    "from surprise.prediction_algorithms import *\n",
    "from surprise.model_selection import GridSearchCV\n",
    "import pickle\n",
    "pd.set_option('display.max_rows', None)\n",
    "import heapq\n",
    "from collections import defaultdict\n",
    "from operator import itemgetter\n",
    "import random \n",
    "%load_ext autotime"
   ]
  },
  {
   "cell_type": "code",
   "execution_count": 22,
   "id": "674d3282",
   "metadata": {},
   "outputs": [
    {
     "name": "stdout",
     "output_type": "stream",
     "text": [
      "time: 482 ms\n"
     ]
    }
   ],
   "source": [
    "df =  pd.read_csv('./Data/clean_data2.csv')"
   ]
  },
  {
   "cell_type": "code",
   "execution_count": 3,
   "id": "7f73f53e",
   "metadata": {},
   "outputs": [
    {
     "name": "stdout",
     "output_type": "stream",
     "text": [
      "time: 1 ms\n"
     ]
    }
   ],
   "source": [
    "reader = Reader(line_format=u'rating user item', sep=',', rating_scale=(1, 5), skip_lines=1)"
   ]
  },
  {
   "cell_type": "code",
   "execution_count": 23,
   "id": "43af1173",
   "metadata": {},
   "outputs": [
    {
     "name": "stdout",
     "output_type": "stream",
     "text": [
      "time: 3 ms\n"
     ]
    }
   ],
   "source": [
    "beer_sample = pickle.load(open('./Data/beer_sample.sav', 'rb'))"
   ]
  },
  {
   "cell_type": "code",
   "execution_count": 24,
   "id": "b6ad7263",
   "metadata": {},
   "outputs": [
    {
     "name": "stdout",
     "output_type": "stream",
     "text": [
      "time: 4.52 s\n"
     ]
    }
   ],
   "source": [
    "Model = pickle.load(open('./Data/final_model.sav', 'rb'))"
   ]
  },
  {
   "cell_type": "code",
   "execution_count": 2,
   "id": "b93c12cf",
   "metadata": {},
   "outputs": [
    {
     "name": "stdout",
     "output_type": "stream",
     "text": [
      "time: 6.02 ms\n"
     ]
    }
   ],
   "source": [
    "def rater(num):\n",
    "    userID = 'Tye'\n",
    "    rating_list = []\n",
    "    while num > 0:\n",
    "\n",
    "        beer = (random.choice(beer_sample))\n",
    "        print(beer)\n",
    "        rating = input(\"Let's rate some beers on a scale of 1-5, press n if you have not drank it :\\n\")\n",
    "        if rating == 'n':\n",
    "            continue\n",
    "        else:\n",
    "            rating_one_beer = {'user':userID,'item':beer,'rating':rating}\n",
    "            rating_list.append(rating_one_beer) \n",
    "            num -= 1\n",
    "    return rating_list      "
   ]
  },
  {
   "cell_type": "code",
   "execution_count": 7,
   "id": "cc1b2fba",
   "metadata": {},
   "outputs": [
    {
     "name": "stdout",
     "output_type": "stream",
     "text": [
      "time: 2 ms\n"
     ]
    }
   ],
   "source": [
    "def rec(testSubject, k):\n",
    "    \n",
    "    \n",
    "    \n",
    "\n",
    "    testUserInnerID =  trainsetfull.to_inner_uid(testSubject)\n",
    "    similarityRow = simsMatrix[testUserInnerID]\n",
    "\n",
    "    similarUsers = []\n",
    "    for innerID, score in enumerate(similarityRow):\n",
    "        if (innerID != testUserInnerID):\n",
    "            similarUsers.append( (innerID, score) )\n",
    "        \n",
    "    kNeighbors = heapq.nlargest(k, similarUsers, key=lambda t: t[1])\n",
    "\n",
    "    candidates = defaultdict(float)\n",
    "    for similarUser in kNeighbors:\n",
    "        innerID = similarUser[0]\n",
    "        userSimilarityScore = similarUser[1]\n",
    "        theirRatings = trainsetfull.ur[innerID]\n",
    "        for rating in theirRatings:\n",
    "            candidates[rating[0]] += (rating[1] / 5.0) * userSimilarityScore\n",
    "\n",
    "    watched = {}\n",
    "    for itemID, rating in trainsetfull.ur[testUserInnerID]:\n",
    "        watched[itemID] = 1   \n",
    "    \n",
    "    pos = 0\n",
    "    for itemID, ratingSum in sorted(candidates.items(), key=itemgetter(1), reverse=True):\n",
    "        if not itemID in watched:\n",
    "            movieID = trainsetfull.to_raw_iid(itemID)\n",
    "            print(movieID)\n",
    "            pos += 1\n",
    "            if (pos >= k):\n",
    "                break\n",
    "    return "
   ]
  },
  {
   "cell_type": "code",
   "execution_count": 16,
   "id": "263ba6c5",
   "metadata": {},
   "outputs": [
    {
     "name": "stdout",
     "output_type": "stream",
     "text": [
      "A Little Sumpin' Extra! Ale\n",
      "How do you rate this beer on a scale of 1-5, press n if you have not drank it :\n",
      "5\n",
      "Bell's Hopslam Ale\n",
      "How do you rate this beer on a scale of 1-5, press n if you have not drank it :\n",
      "4\n",
      "Dos Equis Special Lager\n",
      "How do you rate this beer on a scale of 1-5, press n if you have not drank it :\n",
      "4\n",
      "Brooklyn Brown Ale\n",
      "How do you rate this beer on a scale of 1-5, press n if you have not drank it :\n",
      "5\n",
      "Keystone Light\n",
      "How do you rate this beer on a scale of 1-5, press n if you have not drank it :\n",
      "2\n",
      "time: 11 s\n"
     ]
    }
   ],
   "source": [
    "user = rater(5)"
   ]
  },
  {
   "cell_type": "code",
   "execution_count": 17,
   "id": "29caae22",
   "metadata": {},
   "outputs": [
    {
     "data": {
      "text/plain": [
       "Index(['user', 'item', 'rating'], dtype='object')"
      ]
     },
     "execution_count": 17,
     "metadata": {},
     "output_type": "execute_result"
    },
    {
     "name": "stdout",
     "output_type": "stream",
     "text": [
      "time: 224 ms\n"
     ]
    }
   ],
   "source": [
    "new_ratings_df = df.append(user,ignore_index=True)\n",
    "new_ratings_df.drop(columns = 'Unnamed: 0', inplace =True)\n",
    "new_ratings_df.columns  "
   ]
  },
  {
   "cell_type": "code",
   "execution_count": 18,
   "id": "1c26d559",
   "metadata": {},
   "outputs": [
    {
     "name": "stdout",
     "output_type": "stream",
     "text": [
      "time: 837 ms\n"
     ]
    }
   ],
   "source": [
    "data = Dataset.load_from_df(new_ratings_df,reader)"
   ]
  },
  {
   "cell_type": "code",
   "execution_count": 19,
   "id": "4653c2bc",
   "metadata": {},
   "outputs": [
    {
     "name": "stdout",
     "output_type": "stream",
     "text": [
      "time: 664 ms\n"
     ]
    }
   ],
   "source": [
    " trainsetfull = data.build_full_trainset()"
   ]
  },
  {
   "cell_type": "code",
   "execution_count": 20,
   "id": "9d11233a",
   "metadata": {},
   "outputs": [
    {
     "name": "stdout",
     "output_type": "stream",
     "text": [
      "Estimating biases using als...\n",
      "Computing the cosine similarity matrix...\n",
      "Done computing similarity matrix.\n",
      "Computing the cosine similarity matrix...\n",
      "Done computing similarity matrix.\n",
      "time: 3min 59s\n"
     ]
    }
   ],
   "source": [
    "Model.fit(trainsetfull)\n",
    "simsMatrix = Model.compute_similarities()"
   ]
  },
  {
   "cell_type": "code",
   "execution_count": 21,
   "id": "f6607a13",
   "metadata": {
    "scrolled": true
   },
   "outputs": [
    {
     "name": "stdout",
     "output_type": "stream",
     "text": [
      "Chocolate Stout\n",
      "Imperial Stout\n",
      "Ten FIDY\n",
      "Pale Ale\n",
      "Saison Dupont\n",
      "time: 246 ms\n"
     ]
    }
   ],
   "source": [
    "testSubject = 'Tye'\n",
    "rec(testSubject, 5)"
   ]
  },
  {
   "cell_type": "code",
   "execution_count": null,
   "id": "50bcce1b",
   "metadata": {},
   "outputs": [],
   "source": []
  }
 ],
 "metadata": {
  "kernelspec": {
   "display_name": "Python 3",
   "language": "python",
   "name": "python3"
  },
  "language_info": {
   "codemirror_mode": {
    "name": "ipython",
    "version": 3
   },
   "file_extension": ".py",
   "mimetype": "text/x-python",
   "name": "python",
   "nbconvert_exporter": "python",
   "pygments_lexer": "ipython3",
   "version": "3.8.10"
  }
 },
 "nbformat": 4,
 "nbformat_minor": 5
}
